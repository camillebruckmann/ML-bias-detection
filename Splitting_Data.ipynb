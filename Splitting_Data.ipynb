{
  "nbformat": 4,
  "nbformat_minor": 0,
  "metadata": {
    "colab": {
      "provenance": [],
      "collapsed_sections": [
        "zemScXbHKQfW",
        "GaE0hIPTknbx"
      ]
    },
    "kernelspec": {
      "name": "python3",
      "display_name": "Python 3"
    },
    "language_info": {
      "name": "python"
    },
    "accelerator": "GPU",
    "gpuClass": "standard",
    "widgets": {
      "application/vnd.jupyter.widget-state+json": {
        "13118bdfe1c14526a9d9408022ed1cad": {
          "model_module": "@jupyter-widgets/controls",
          "model_name": "HBoxModel",
          "model_module_version": "1.5.0",
          "state": {
            "_dom_classes": [],
            "_model_module": "@jupyter-widgets/controls",
            "_model_module_version": "1.5.0",
            "_model_name": "HBoxModel",
            "_view_count": null,
            "_view_module": "@jupyter-widgets/controls",
            "_view_module_version": "1.5.0",
            "_view_name": "HBoxView",
            "box_style": "",
            "children": [
              "IPY_MODEL_96472eecfbcd4155afb677ace8bef1da",
              "IPY_MODEL_a785ba8b54b34677821d037790c8df2c",
              "IPY_MODEL_85bea974b2e347dca55eb9b946b9ec72"
            ],
            "layout": "IPY_MODEL_5d5d19b34fac4940a77d1ea3613fa054"
          }
        },
        "96472eecfbcd4155afb677ace8bef1da": {
          "model_module": "@jupyter-widgets/controls",
          "model_name": "HTMLModel",
          "model_module_version": "1.5.0",
          "state": {
            "_dom_classes": [],
            "_model_module": "@jupyter-widgets/controls",
            "_model_module_version": "1.5.0",
            "_model_name": "HTMLModel",
            "_view_count": null,
            "_view_module": "@jupyter-widgets/controls",
            "_view_module_version": "1.5.0",
            "_view_name": "HTMLView",
            "description": "",
            "description_tooltip": null,
            "layout": "IPY_MODEL_753759355e6e4ca9ba2d725e2418ad79",
            "placeholder": "​",
            "style": "IPY_MODEL_51981fbc89da49c09a50b957659a2211",
            "value": "100%"
          }
        },
        "a785ba8b54b34677821d037790c8df2c": {
          "model_module": "@jupyter-widgets/controls",
          "model_name": "FloatProgressModel",
          "model_module_version": "1.5.0",
          "state": {
            "_dom_classes": [],
            "_model_module": "@jupyter-widgets/controls",
            "_model_module_version": "1.5.0",
            "_model_name": "FloatProgressModel",
            "_view_count": null,
            "_view_module": "@jupyter-widgets/controls",
            "_view_module_version": "1.5.0",
            "_view_name": "ProgressView",
            "bar_style": "success",
            "description": "",
            "description_tooltip": null,
            "layout": "IPY_MODEL_6c072864cd8c40ae8f5f5af3412ed37d",
            "max": 2,
            "min": 0,
            "orientation": "horizontal",
            "style": "IPY_MODEL_fc41daee1cea4168981cfac7b23499fd",
            "value": 2
          }
        },
        "85bea974b2e347dca55eb9b946b9ec72": {
          "model_module": "@jupyter-widgets/controls",
          "model_name": "HTMLModel",
          "model_module_version": "1.5.0",
          "state": {
            "_dom_classes": [],
            "_model_module": "@jupyter-widgets/controls",
            "_model_module_version": "1.5.0",
            "_model_name": "HTMLModel",
            "_view_count": null,
            "_view_module": "@jupyter-widgets/controls",
            "_view_module_version": "1.5.0",
            "_view_name": "HTMLView",
            "description": "",
            "description_tooltip": null,
            "layout": "IPY_MODEL_1b943e8188dc4eebb3cda47cade4ee3d",
            "placeholder": "​",
            "style": "IPY_MODEL_e86bb832835f4291a0892ad679cb1be1",
            "value": " 2/2 [00:00&lt;00:00, 43.35it/s]"
          }
        },
        "5d5d19b34fac4940a77d1ea3613fa054": {
          "model_module": "@jupyter-widgets/base",
          "model_name": "LayoutModel",
          "model_module_version": "1.2.0",
          "state": {
            "_model_module": "@jupyter-widgets/base",
            "_model_module_version": "1.2.0",
            "_model_name": "LayoutModel",
            "_view_count": null,
            "_view_module": "@jupyter-widgets/base",
            "_view_module_version": "1.2.0",
            "_view_name": "LayoutView",
            "align_content": null,
            "align_items": null,
            "align_self": null,
            "border": null,
            "bottom": null,
            "display": null,
            "flex": null,
            "flex_flow": null,
            "grid_area": null,
            "grid_auto_columns": null,
            "grid_auto_flow": null,
            "grid_auto_rows": null,
            "grid_column": null,
            "grid_gap": null,
            "grid_row": null,
            "grid_template_areas": null,
            "grid_template_columns": null,
            "grid_template_rows": null,
            "height": null,
            "justify_content": null,
            "justify_items": null,
            "left": null,
            "margin": null,
            "max_height": null,
            "max_width": null,
            "min_height": null,
            "min_width": null,
            "object_fit": null,
            "object_position": null,
            "order": null,
            "overflow": null,
            "overflow_x": null,
            "overflow_y": null,
            "padding": null,
            "right": null,
            "top": null,
            "visibility": null,
            "width": null
          }
        },
        "753759355e6e4ca9ba2d725e2418ad79": {
          "model_module": "@jupyter-widgets/base",
          "model_name": "LayoutModel",
          "model_module_version": "1.2.0",
          "state": {
            "_model_module": "@jupyter-widgets/base",
            "_model_module_version": "1.2.0",
            "_model_name": "LayoutModel",
            "_view_count": null,
            "_view_module": "@jupyter-widgets/base",
            "_view_module_version": "1.2.0",
            "_view_name": "LayoutView",
            "align_content": null,
            "align_items": null,
            "align_self": null,
            "border": null,
            "bottom": null,
            "display": null,
            "flex": null,
            "flex_flow": null,
            "grid_area": null,
            "grid_auto_columns": null,
            "grid_auto_flow": null,
            "grid_auto_rows": null,
            "grid_column": null,
            "grid_gap": null,
            "grid_row": null,
            "grid_template_areas": null,
            "grid_template_columns": null,
            "grid_template_rows": null,
            "height": null,
            "justify_content": null,
            "justify_items": null,
            "left": null,
            "margin": null,
            "max_height": null,
            "max_width": null,
            "min_height": null,
            "min_width": null,
            "object_fit": null,
            "object_position": null,
            "order": null,
            "overflow": null,
            "overflow_x": null,
            "overflow_y": null,
            "padding": null,
            "right": null,
            "top": null,
            "visibility": null,
            "width": null
          }
        },
        "51981fbc89da49c09a50b957659a2211": {
          "model_module": "@jupyter-widgets/controls",
          "model_name": "DescriptionStyleModel",
          "model_module_version": "1.5.0",
          "state": {
            "_model_module": "@jupyter-widgets/controls",
            "_model_module_version": "1.5.0",
            "_model_name": "DescriptionStyleModel",
            "_view_count": null,
            "_view_module": "@jupyter-widgets/base",
            "_view_module_version": "1.2.0",
            "_view_name": "StyleView",
            "description_width": ""
          }
        },
        "6c072864cd8c40ae8f5f5af3412ed37d": {
          "model_module": "@jupyter-widgets/base",
          "model_name": "LayoutModel",
          "model_module_version": "1.2.0",
          "state": {
            "_model_module": "@jupyter-widgets/base",
            "_model_module_version": "1.2.0",
            "_model_name": "LayoutModel",
            "_view_count": null,
            "_view_module": "@jupyter-widgets/base",
            "_view_module_version": "1.2.0",
            "_view_name": "LayoutView",
            "align_content": null,
            "align_items": null,
            "align_self": null,
            "border": null,
            "bottom": null,
            "display": null,
            "flex": null,
            "flex_flow": null,
            "grid_area": null,
            "grid_auto_columns": null,
            "grid_auto_flow": null,
            "grid_auto_rows": null,
            "grid_column": null,
            "grid_gap": null,
            "grid_row": null,
            "grid_template_areas": null,
            "grid_template_columns": null,
            "grid_template_rows": null,
            "height": null,
            "justify_content": null,
            "justify_items": null,
            "left": null,
            "margin": null,
            "max_height": null,
            "max_width": null,
            "min_height": null,
            "min_width": null,
            "object_fit": null,
            "object_position": null,
            "order": null,
            "overflow": null,
            "overflow_x": null,
            "overflow_y": null,
            "padding": null,
            "right": null,
            "top": null,
            "visibility": null,
            "width": null
          }
        },
        "fc41daee1cea4168981cfac7b23499fd": {
          "model_module": "@jupyter-widgets/controls",
          "model_name": "ProgressStyleModel",
          "model_module_version": "1.5.0",
          "state": {
            "_model_module": "@jupyter-widgets/controls",
            "_model_module_version": "1.5.0",
            "_model_name": "ProgressStyleModel",
            "_view_count": null,
            "_view_module": "@jupyter-widgets/base",
            "_view_module_version": "1.2.0",
            "_view_name": "StyleView",
            "bar_color": null,
            "description_width": ""
          }
        },
        "1b943e8188dc4eebb3cda47cade4ee3d": {
          "model_module": "@jupyter-widgets/base",
          "model_name": "LayoutModel",
          "model_module_version": "1.2.0",
          "state": {
            "_model_module": "@jupyter-widgets/base",
            "_model_module_version": "1.2.0",
            "_model_name": "LayoutModel",
            "_view_count": null,
            "_view_module": "@jupyter-widgets/base",
            "_view_module_version": "1.2.0",
            "_view_name": "LayoutView",
            "align_content": null,
            "align_items": null,
            "align_self": null,
            "border": null,
            "bottom": null,
            "display": null,
            "flex": null,
            "flex_flow": null,
            "grid_area": null,
            "grid_auto_columns": null,
            "grid_auto_flow": null,
            "grid_auto_rows": null,
            "grid_column": null,
            "grid_gap": null,
            "grid_row": null,
            "grid_template_areas": null,
            "grid_template_columns": null,
            "grid_template_rows": null,
            "height": null,
            "justify_content": null,
            "justify_items": null,
            "left": null,
            "margin": null,
            "max_height": null,
            "max_width": null,
            "min_height": null,
            "min_width": null,
            "object_fit": null,
            "object_position": null,
            "order": null,
            "overflow": null,
            "overflow_x": null,
            "overflow_y": null,
            "padding": null,
            "right": null,
            "top": null,
            "visibility": null,
            "width": null
          }
        },
        "e86bb832835f4291a0892ad679cb1be1": {
          "model_module": "@jupyter-widgets/controls",
          "model_name": "DescriptionStyleModel",
          "model_module_version": "1.5.0",
          "state": {
            "_model_module": "@jupyter-widgets/controls",
            "_model_module_version": "1.5.0",
            "_model_name": "DescriptionStyleModel",
            "_view_count": null,
            "_view_module": "@jupyter-widgets/base",
            "_view_module_version": "1.2.0",
            "_view_name": "StyleView",
            "description_width": ""
          }
        }
      }
    }
  },
  "cells": [
    {
      "cell_type": "markdown",
      "source": [
        "# Creating NLP Datasets with Custom Identities\n",
        "\n",
        "To detect bias in NLP based on identity terms, the dataset must include labels classifying the identities present in the dataset. This google colab allows users to: \n",
        "\n",
        "1.   Customize the identities to search for\n",
        "2.   Download a dataset and label the identities found\n",
        "2.   Expand a custom or existing dataset with more datapoints of any identities specified, by duplicating texts and changing the identity terms.\n",
        "\n",
        "The result of this google colab is automated dataset creation to remove restrictions on anaylzing datasets for bias when the dataset is unlabeled or too small.\n",
        "\n",
        "\n",
        "\n"
      ],
      "metadata": {
        "id": "KPZ7cCU4liFs"
      }
    },
    {
      "cell_type": "markdown",
      "source": [
        "# Prepare the Dataset\n",
        "\n",
        "Download the dataset, add labels, and extract the test set."
      ],
      "metadata": {
        "id": "zemScXbHKQfW"
      }
    },
    {
      "cell_type": "code",
      "source": [
        "#import libraries\n",
        "!pip install datasets\n",
        "from datasets import load_dataset \n",
        "import pandas as pd\n"
      ],
      "metadata": {
        "colab": {
          "base_uri": "https://localhost:8080/"
        },
        "id": "FiTHMzbgijfk",
        "outputId": "ad01c109-ed5c-4766-a2a5-9111bc037493"
      },
      "execution_count": null,
      "outputs": [
        {
          "output_type": "stream",
          "name": "stdout",
          "text": [
            "Looking in indexes: https://pypi.org/simple, https://us-python.pkg.dev/colab-wheels/public/simple/\n",
            "Requirement already satisfied: datasets in /usr/local/lib/python3.7/dist-packages (2.7.1)\n",
            "Requirement already satisfied: tqdm>=4.62.1 in /usr/local/lib/python3.7/dist-packages (from datasets) (4.64.1)\n",
            "Requirement already satisfied: multiprocess in /usr/local/lib/python3.7/dist-packages (from datasets) (0.70.14)\n",
            "Requirement already satisfied: pyarrow>=6.0.0 in /usr/local/lib/python3.7/dist-packages (from datasets) (9.0.0)\n",
            "Requirement already satisfied: requests>=2.19.0 in /usr/local/lib/python3.7/dist-packages (from datasets) (2.23.0)\n",
            "Requirement already satisfied: packaging in /usr/local/lib/python3.7/dist-packages (from datasets) (21.3)\n",
            "Requirement already satisfied: responses<0.19 in /usr/local/lib/python3.7/dist-packages (from datasets) (0.18.0)\n",
            "Requirement already satisfied: numpy>=1.17 in /usr/local/lib/python3.7/dist-packages (from datasets) (1.21.6)\n",
            "Requirement already satisfied: aiohttp in /usr/local/lib/python3.7/dist-packages (from datasets) (3.8.3)\n",
            "Requirement already satisfied: pyyaml>=5.1 in /usr/local/lib/python3.7/dist-packages (from datasets) (6.0)\n",
            "Requirement already satisfied: fsspec[http]>=2021.11.1 in /usr/local/lib/python3.7/dist-packages (from datasets) (2022.11.0)\n",
            "Requirement already satisfied: importlib-metadata in /usr/local/lib/python3.7/dist-packages (from datasets) (4.13.0)\n",
            "Requirement already satisfied: huggingface-hub<1.0.0,>=0.2.0 in /usr/local/lib/python3.7/dist-packages (from datasets) (0.11.1)\n",
            "Requirement already satisfied: xxhash in /usr/local/lib/python3.7/dist-packages (from datasets) (3.1.0)\n",
            "Requirement already satisfied: dill<0.3.7 in /usr/local/lib/python3.7/dist-packages (from datasets) (0.3.6)\n",
            "Requirement already satisfied: pandas in /usr/local/lib/python3.7/dist-packages (from datasets) (1.3.5)\n",
            "Requirement already satisfied: asynctest==0.13.0 in /usr/local/lib/python3.7/dist-packages (from aiohttp->datasets) (0.13.0)\n",
            "Requirement already satisfied: aiosignal>=1.1.2 in /usr/local/lib/python3.7/dist-packages (from aiohttp->datasets) (1.3.1)\n",
            "Requirement already satisfied: yarl<2.0,>=1.0 in /usr/local/lib/python3.7/dist-packages (from aiohttp->datasets) (1.8.1)\n",
            "Requirement already satisfied: async-timeout<5.0,>=4.0.0a3 in /usr/local/lib/python3.7/dist-packages (from aiohttp->datasets) (4.0.2)\n",
            "Requirement already satisfied: multidict<7.0,>=4.5 in /usr/local/lib/python3.7/dist-packages (from aiohttp->datasets) (6.0.2)\n",
            "Requirement already satisfied: typing-extensions>=3.7.4 in /usr/local/lib/python3.7/dist-packages (from aiohttp->datasets) (4.1.1)\n",
            "Requirement already satisfied: frozenlist>=1.1.1 in /usr/local/lib/python3.7/dist-packages (from aiohttp->datasets) (1.3.3)\n",
            "Requirement already satisfied: charset-normalizer<3.0,>=2.0 in /usr/local/lib/python3.7/dist-packages (from aiohttp->datasets) (2.1.1)\n",
            "Requirement already satisfied: attrs>=17.3.0 in /usr/local/lib/python3.7/dist-packages (from aiohttp->datasets) (22.1.0)\n",
            "Requirement already satisfied: filelock in /usr/local/lib/python3.7/dist-packages (from huggingface-hub<1.0.0,>=0.2.0->datasets) (3.8.0)\n",
            "Requirement already satisfied: pyparsing!=3.0.5,>=2.0.2 in /usr/local/lib/python3.7/dist-packages (from packaging->datasets) (3.0.9)\n",
            "Requirement already satisfied: certifi>=2017.4.17 in /usr/local/lib/python3.7/dist-packages (from requests>=2.19.0->datasets) (2022.9.24)\n",
            "Requirement already satisfied: urllib3!=1.25.0,!=1.25.1,<1.26,>=1.21.1 in /usr/local/lib/python3.7/dist-packages (from requests>=2.19.0->datasets) (1.25.11)\n",
            "Requirement already satisfied: idna<3,>=2.5 in /usr/local/lib/python3.7/dist-packages (from requests>=2.19.0->datasets) (2.10)\n",
            "Requirement already satisfied: chardet<4,>=3.0.2 in /usr/local/lib/python3.7/dist-packages (from requests>=2.19.0->datasets) (3.0.4)\n",
            "Requirement already satisfied: zipp>=0.5 in /usr/local/lib/python3.7/dist-packages (from importlib-metadata->datasets) (3.10.0)\n",
            "Requirement already satisfied: python-dateutil>=2.7.3 in /usr/local/lib/python3.7/dist-packages (from pandas->datasets) (2.8.2)\n",
            "Requirement already satisfied: pytz>=2017.3 in /usr/local/lib/python3.7/dist-packages (from pandas->datasets) (2022.6)\n",
            "Requirement already satisfied: six>=1.5 in /usr/local/lib/python3.7/dist-packages (from python-dateutil>=2.7.3->pandas->datasets) (1.15.0)\n"
          ]
        }
      ]
    },
    {
      "cell_type": "code",
      "execution_count": null,
      "metadata": {
        "id": "lalNV3u-siD0",
        "colab": {
          "base_uri": "https://localhost:8080/",
          "referenced_widgets": [
            "13118bdfe1c14526a9d9408022ed1cad",
            "96472eecfbcd4155afb677ace8bef1da",
            "a785ba8b54b34677821d037790c8df2c",
            "85bea974b2e347dca55eb9b946b9ec72",
            "5d5d19b34fac4940a77d1ea3613fa054",
            "753759355e6e4ca9ba2d725e2418ad79",
            "51981fbc89da49c09a50b957659a2211",
            "6c072864cd8c40ae8f5f5af3412ed37d",
            "fc41daee1cea4168981cfac7b23499fd",
            "1b943e8188dc4eebb3cda47cade4ee3d",
            "e86bb832835f4291a0892ad679cb1be1"
          ]
        },
        "outputId": "864cc3dc-d7e0-4fb8-e3c3-850dbf76adec"
      },
      "outputs": [
        {
          "output_type": "stream",
          "name": "stderr",
          "text": [
            "WARNING:datasets.builder:Found cached dataset ag_news (/root/.cache/huggingface/datasets/ag_news/default/0.0.0/bc2bcb40336ace1a0374767fc29bb0296cdaf8a6da7298436239c54d79180548)\n"
          ]
        },
        {
          "output_type": "display_data",
          "data": {
            "text/plain": [
              "  0%|          | 0/2 [00:00<?, ?it/s]"
            ],
            "application/vnd.jupyter.widget-view+json": {
              "version_major": 2,
              "version_minor": 0,
              "model_id": "13118bdfe1c14526a9d9408022ed1cad"
            }
          },
          "metadata": {}
        },
        {
          "output_type": "stream",
          "name": "stdout",
          "text": [
            "DatasetDict({\n",
            "    train: Dataset({\n",
            "        features: ['text', 'label'],\n",
            "        num_rows: 120000\n",
            "    })\n",
            "    test: Dataset({\n",
            "        features: ['text', 'label'],\n",
            "        num_rows: 7600\n",
            "    })\n",
            "})\n"
          ]
        }
      ],
      "source": [
        "\n",
        "def dataset_import(dataset_name):\n",
        "  full_df = load_dataset(dataset_name)\n",
        "  print(full_df)\n",
        "  return full_df\n",
        "\n",
        "def local_import(dataset_name):\n",
        "  df = pd.read_csv(dataset_name)\n",
        "  df.head()\n",
        "  return df\n",
        "\n",
        "\n",
        "full_df = dataset_import(\"ag_news\")"
      ]
    },
    {
      "cell_type": "code",
      "source": [
        "#take the test set of the dataset\n",
        "full_df.set_format(type=\"pandas\")\n",
        "df = full_df[\"test\"][:]\n",
        "df.head()"
      ],
      "metadata": {
        "colab": {
          "base_uri": "https://localhost:8080/"
        },
        "id": "9yAD67WLjvTX",
        "outputId": "4f2f96b1-b5dd-4423-a303-e88af7a5afad"
      },
      "execution_count": null,
      "outputs": [
        {
          "output_type": "execute_result",
          "data": {
            "text/plain": [
              "                                                text  label\n",
              "0  Fears for T N pension after talks Unions repre...      2\n",
              "1  The Race is On: Second Private Team Sets Launc...      3\n",
              "2  Ky. Company Wins Grant to Study Peptides (AP) ...      3\n",
              "3  Prediction Unit Helps Forecast Wildfires (AP) ...      3\n",
              "4  Calif. Aims to Limit Farm-Related Smog (AP) AP...      3"
            ],
            "text/html": [
              "\n",
              "  <div id=\"df-7ea1a4be-b73d-4b32-9f33-b895f3ba05ea\">\n",
              "    <div class=\"colab-df-container\">\n",
              "      <div>\n",
              "<style scoped>\n",
              "    .dataframe tbody tr th:only-of-type {\n",
              "        vertical-align: middle;\n",
              "    }\n",
              "\n",
              "    .dataframe tbody tr th {\n",
              "        vertical-align: top;\n",
              "    }\n",
              "\n",
              "    .dataframe thead th {\n",
              "        text-align: right;\n",
              "    }\n",
              "</style>\n",
              "<table border=\"1\" class=\"dataframe\">\n",
              "  <thead>\n",
              "    <tr style=\"text-align: right;\">\n",
              "      <th></th>\n",
              "      <th>text</th>\n",
              "      <th>label</th>\n",
              "    </tr>\n",
              "  </thead>\n",
              "  <tbody>\n",
              "    <tr>\n",
              "      <th>0</th>\n",
              "      <td>Fears for T N pension after talks Unions repre...</td>\n",
              "      <td>2</td>\n",
              "    </tr>\n",
              "    <tr>\n",
              "      <th>1</th>\n",
              "      <td>The Race is On: Second Private Team Sets Launc...</td>\n",
              "      <td>3</td>\n",
              "    </tr>\n",
              "    <tr>\n",
              "      <th>2</th>\n",
              "      <td>Ky. Company Wins Grant to Study Peptides (AP) ...</td>\n",
              "      <td>3</td>\n",
              "    </tr>\n",
              "    <tr>\n",
              "      <th>3</th>\n",
              "      <td>Prediction Unit Helps Forecast Wildfires (AP) ...</td>\n",
              "      <td>3</td>\n",
              "    </tr>\n",
              "    <tr>\n",
              "      <th>4</th>\n",
              "      <td>Calif. Aims to Limit Farm-Related Smog (AP) AP...</td>\n",
              "      <td>3</td>\n",
              "    </tr>\n",
              "  </tbody>\n",
              "</table>\n",
              "</div>\n",
              "      <button class=\"colab-df-convert\" onclick=\"convertToInteractive('df-7ea1a4be-b73d-4b32-9f33-b895f3ba05ea')\"\n",
              "              title=\"Convert this dataframe to an interactive table.\"\n",
              "              style=\"display:none;\">\n",
              "        \n",
              "  <svg xmlns=\"http://www.w3.org/2000/svg\" height=\"24px\"viewBox=\"0 0 24 24\"\n",
              "       width=\"24px\">\n",
              "    <path d=\"M0 0h24v24H0V0z\" fill=\"none\"/>\n",
              "    <path d=\"M18.56 5.44l.94 2.06.94-2.06 2.06-.94-2.06-.94-.94-2.06-.94 2.06-2.06.94zm-11 1L8.5 8.5l.94-2.06 2.06-.94-2.06-.94L8.5 2.5l-.94 2.06-2.06.94zm10 10l.94 2.06.94-2.06 2.06-.94-2.06-.94-.94-2.06-.94 2.06-2.06.94z\"/><path d=\"M17.41 7.96l-1.37-1.37c-.4-.4-.92-.59-1.43-.59-.52 0-1.04.2-1.43.59L10.3 9.45l-7.72 7.72c-.78.78-.78 2.05 0 2.83L4 21.41c.39.39.9.59 1.41.59.51 0 1.02-.2 1.41-.59l7.78-7.78 2.81-2.81c.8-.78.8-2.07 0-2.86zM5.41 20L4 18.59l7.72-7.72 1.47 1.35L5.41 20z\"/>\n",
              "  </svg>\n",
              "      </button>\n",
              "      \n",
              "  <style>\n",
              "    .colab-df-container {\n",
              "      display:flex;\n",
              "      flex-wrap:wrap;\n",
              "      gap: 12px;\n",
              "    }\n",
              "\n",
              "    .colab-df-convert {\n",
              "      background-color: #E8F0FE;\n",
              "      border: none;\n",
              "      border-radius: 50%;\n",
              "      cursor: pointer;\n",
              "      display: none;\n",
              "      fill: #1967D2;\n",
              "      height: 32px;\n",
              "      padding: 0 0 0 0;\n",
              "      width: 32px;\n",
              "    }\n",
              "\n",
              "    .colab-df-convert:hover {\n",
              "      background-color: #E2EBFA;\n",
              "      box-shadow: 0px 1px 2px rgba(60, 64, 67, 0.3), 0px 1px 3px 1px rgba(60, 64, 67, 0.15);\n",
              "      fill: #174EA6;\n",
              "    }\n",
              "\n",
              "    [theme=dark] .colab-df-convert {\n",
              "      background-color: #3B4455;\n",
              "      fill: #D2E3FC;\n",
              "    }\n",
              "\n",
              "    [theme=dark] .colab-df-convert:hover {\n",
              "      background-color: #434B5C;\n",
              "      box-shadow: 0px 1px 3px 1px rgba(0, 0, 0, 0.15);\n",
              "      filter: drop-shadow(0px 1px 2px rgba(0, 0, 0, 0.3));\n",
              "      fill: #FFFFFF;\n",
              "    }\n",
              "  </style>\n",
              "\n",
              "      <script>\n",
              "        const buttonEl =\n",
              "          document.querySelector('#df-7ea1a4be-b73d-4b32-9f33-b895f3ba05ea button.colab-df-convert');\n",
              "        buttonEl.style.display =\n",
              "          google.colab.kernel.accessAllowed ? 'block' : 'none';\n",
              "\n",
              "        async function convertToInteractive(key) {\n",
              "          const element = document.querySelector('#df-7ea1a4be-b73d-4b32-9f33-b895f3ba05ea');\n",
              "          const dataTable =\n",
              "            await google.colab.kernel.invokeFunction('convertToInteractive',\n",
              "                                                     [key], {});\n",
              "          if (!dataTable) return;\n",
              "\n",
              "          const docLinkHtml = 'Like what you see? Visit the ' +\n",
              "            '<a target=\"_blank\" href=https://colab.research.google.com/notebooks/data_table.ipynb>data table notebook</a>'\n",
              "            + ' to learn more about interactive tables.';\n",
              "          element.innerHTML = '';\n",
              "          dataTable['output_type'] = 'display_data';\n",
              "          await google.colab.output.renderOutput(dataTable, element);\n",
              "          const docLink = document.createElement('div');\n",
              "          docLink.innerHTML = docLinkHtml;\n",
              "          element.appendChild(docLink);\n",
              "        }\n",
              "      </script>\n",
              "    </div>\n",
              "  </div>\n",
              "  "
            ]
          },
          "metadata": {},
          "execution_count": 25
        }
      ]
    },
    {
      "cell_type": "code",
      "source": [
        "#add column with label names\n",
        "def label_int2str(row):\n",
        "    return full_df[\"test\"].features[\"label\"].int2str(row)\n",
        "\n",
        "df[\"label_name\"] = df[\"label\"].apply(label_int2str)\n",
        "df.head()"
      ],
      "metadata": {
        "colab": {
          "base_uri": "https://localhost:8080/"
        },
        "id": "p0tBIkf0SuO7",
        "outputId": "db957bcd-3f18-44f4-daf5-92ecdaa92857"
      },
      "execution_count": null,
      "outputs": [
        {
          "output_type": "execute_result",
          "data": {
            "text/plain": [
              "                                                text  label label_name\n",
              "0  Fears for T N pension after talks Unions repre...      2   Business\n",
              "1  The Race is On: Second Private Team Sets Launc...      3   Sci/Tech\n",
              "2  Ky. Company Wins Grant to Study Peptides (AP) ...      3   Sci/Tech\n",
              "3  Prediction Unit Helps Forecast Wildfires (AP) ...      3   Sci/Tech\n",
              "4  Calif. Aims to Limit Farm-Related Smog (AP) AP...      3   Sci/Tech"
            ],
            "text/html": [
              "\n",
              "  <div id=\"df-c16ef001-bf9d-4aa3-a380-d3e73f2b2de4\">\n",
              "    <div class=\"colab-df-container\">\n",
              "      <div>\n",
              "<style scoped>\n",
              "    .dataframe tbody tr th:only-of-type {\n",
              "        vertical-align: middle;\n",
              "    }\n",
              "\n",
              "    .dataframe tbody tr th {\n",
              "        vertical-align: top;\n",
              "    }\n",
              "\n",
              "    .dataframe thead th {\n",
              "        text-align: right;\n",
              "    }\n",
              "</style>\n",
              "<table border=\"1\" class=\"dataframe\">\n",
              "  <thead>\n",
              "    <tr style=\"text-align: right;\">\n",
              "      <th></th>\n",
              "      <th>text</th>\n",
              "      <th>label</th>\n",
              "      <th>label_name</th>\n",
              "    </tr>\n",
              "  </thead>\n",
              "  <tbody>\n",
              "    <tr>\n",
              "      <th>0</th>\n",
              "      <td>Fears for T N pension after talks Unions repre...</td>\n",
              "      <td>2</td>\n",
              "      <td>Business</td>\n",
              "    </tr>\n",
              "    <tr>\n",
              "      <th>1</th>\n",
              "      <td>The Race is On: Second Private Team Sets Launc...</td>\n",
              "      <td>3</td>\n",
              "      <td>Sci/Tech</td>\n",
              "    </tr>\n",
              "    <tr>\n",
              "      <th>2</th>\n",
              "      <td>Ky. Company Wins Grant to Study Peptides (AP) ...</td>\n",
              "      <td>3</td>\n",
              "      <td>Sci/Tech</td>\n",
              "    </tr>\n",
              "    <tr>\n",
              "      <th>3</th>\n",
              "      <td>Prediction Unit Helps Forecast Wildfires (AP) ...</td>\n",
              "      <td>3</td>\n",
              "      <td>Sci/Tech</td>\n",
              "    </tr>\n",
              "    <tr>\n",
              "      <th>4</th>\n",
              "      <td>Calif. Aims to Limit Farm-Related Smog (AP) AP...</td>\n",
              "      <td>3</td>\n",
              "      <td>Sci/Tech</td>\n",
              "    </tr>\n",
              "  </tbody>\n",
              "</table>\n",
              "</div>\n",
              "      <button class=\"colab-df-convert\" onclick=\"convertToInteractive('df-c16ef001-bf9d-4aa3-a380-d3e73f2b2de4')\"\n",
              "              title=\"Convert this dataframe to an interactive table.\"\n",
              "              style=\"display:none;\">\n",
              "        \n",
              "  <svg xmlns=\"http://www.w3.org/2000/svg\" height=\"24px\"viewBox=\"0 0 24 24\"\n",
              "       width=\"24px\">\n",
              "    <path d=\"M0 0h24v24H0V0z\" fill=\"none\"/>\n",
              "    <path d=\"M18.56 5.44l.94 2.06.94-2.06 2.06-.94-2.06-.94-.94-2.06-.94 2.06-2.06.94zm-11 1L8.5 8.5l.94-2.06 2.06-.94-2.06-.94L8.5 2.5l-.94 2.06-2.06.94zm10 10l.94 2.06.94-2.06 2.06-.94-2.06-.94-.94-2.06-.94 2.06-2.06.94z\"/><path d=\"M17.41 7.96l-1.37-1.37c-.4-.4-.92-.59-1.43-.59-.52 0-1.04.2-1.43.59L10.3 9.45l-7.72 7.72c-.78.78-.78 2.05 0 2.83L4 21.41c.39.39.9.59 1.41.59.51 0 1.02-.2 1.41-.59l7.78-7.78 2.81-2.81c.8-.78.8-2.07 0-2.86zM5.41 20L4 18.59l7.72-7.72 1.47 1.35L5.41 20z\"/>\n",
              "  </svg>\n",
              "      </button>\n",
              "      \n",
              "  <style>\n",
              "    .colab-df-container {\n",
              "      display:flex;\n",
              "      flex-wrap:wrap;\n",
              "      gap: 12px;\n",
              "    }\n",
              "\n",
              "    .colab-df-convert {\n",
              "      background-color: #E8F0FE;\n",
              "      border: none;\n",
              "      border-radius: 50%;\n",
              "      cursor: pointer;\n",
              "      display: none;\n",
              "      fill: #1967D2;\n",
              "      height: 32px;\n",
              "      padding: 0 0 0 0;\n",
              "      width: 32px;\n",
              "    }\n",
              "\n",
              "    .colab-df-convert:hover {\n",
              "      background-color: #E2EBFA;\n",
              "      box-shadow: 0px 1px 2px rgba(60, 64, 67, 0.3), 0px 1px 3px 1px rgba(60, 64, 67, 0.15);\n",
              "      fill: #174EA6;\n",
              "    }\n",
              "\n",
              "    [theme=dark] .colab-df-convert {\n",
              "      background-color: #3B4455;\n",
              "      fill: #D2E3FC;\n",
              "    }\n",
              "\n",
              "    [theme=dark] .colab-df-convert:hover {\n",
              "      background-color: #434B5C;\n",
              "      box-shadow: 0px 1px 3px 1px rgba(0, 0, 0, 0.15);\n",
              "      filter: drop-shadow(0px 1px 2px rgba(0, 0, 0, 0.3));\n",
              "      fill: #FFFFFF;\n",
              "    }\n",
              "  </style>\n",
              "\n",
              "      <script>\n",
              "        const buttonEl =\n",
              "          document.querySelector('#df-c16ef001-bf9d-4aa3-a380-d3e73f2b2de4 button.colab-df-convert');\n",
              "        buttonEl.style.display =\n",
              "          google.colab.kernel.accessAllowed ? 'block' : 'none';\n",
              "\n",
              "        async function convertToInteractive(key) {\n",
              "          const element = document.querySelector('#df-c16ef001-bf9d-4aa3-a380-d3e73f2b2de4');\n",
              "          const dataTable =\n",
              "            await google.colab.kernel.invokeFunction('convertToInteractive',\n",
              "                                                     [key], {});\n",
              "          if (!dataTable) return;\n",
              "\n",
              "          const docLinkHtml = 'Like what you see? Visit the ' +\n",
              "            '<a target=\"_blank\" href=https://colab.research.google.com/notebooks/data_table.ipynb>data table notebook</a>'\n",
              "            + ' to learn more about interactive tables.';\n",
              "          element.innerHTML = '';\n",
              "          dataTable['output_type'] = 'display_data';\n",
              "          await google.colab.output.renderOutput(dataTable, element);\n",
              "          const docLink = document.createElement('div');\n",
              "          docLink.innerHTML = docLinkHtml;\n",
              "          element.appendChild(docLink);\n",
              "        }\n",
              "      </script>\n",
              "    </div>\n",
              "  </div>\n",
              "  "
            ]
          },
          "metadata": {},
          "execution_count": 26
        }
      ]
    },
    {
      "cell_type": "markdown",
      "source": [
        "# Analyze the Dataset\n",
        "\n",
        "What is the distribution of categories? Do certain categories tend to have more words than others?"
      ],
      "metadata": {
        "id": "GaE0hIPTknbx"
      }
    },
    {
      "cell_type": "code",
      "source": [
        "#Have a look at the distribution of classifications\n",
        "import matplotlib.pyplot as plt\n",
        "df[\"label_name\"].value_counts(ascending=True).plot.barh()\n",
        "plt.title(\"Frequency of Classes\")\n",
        "plt.show()"
      ],
      "metadata": {
        "colab": {
          "base_uri": "https://localhost:8080/"
        },
        "id": "vb5anP-dP1aQ",
        "outputId": "f9a2ba8f-6657-4a35-e80a-9fbc100428d6"
      },
      "execution_count": null,
      "outputs": [
        {
          "output_type": "display_data",
          "data": {
            "text/plain": [
              "<Figure size 432x288 with 1 Axes>"
            ],
            "image/png": "[encoded data removed]"
          },
          "metadata": {
            "needs_background": "light"
          }
        }
      ]
    },
    {
      "cell_type": "markdown",
      "source": [
        "As this is an NLP dataset, the lengths of texts can impact the models perdiciton, so if the distribution is uneven, you may consider parsing the dataset into different size categories.\n"
      ],
      "metadata": {
        "id": "3tbo296ok5al"
      }
    },
    {
      "cell_type": "code",
      "source": [
        "df[\"Words Per Tweet\"] = df[\"text\"].str.split().apply(len)\n",
        "df.boxplot(\"Words Per Tweet\", by=\"label_name\", grid=False, \n",
        "           showfliers=False)\n",
        "plt.suptitle(\"\")\n",
        "plt.xlabel(\"\")\n",
        "plt.show()"
      ],
      "metadata": {
        "colab": {
          "base_uri": "https://localhost:8080/"
        },
        "id": "o2aVmlviP_Zo",
        "outputId": "90d297c4-f414-4f26-fa26-b442ff02d7bf"
      },
      "execution_count": null,
      "outputs": [
        {
          "output_type": "display_data",
          "data": {
            "text/plain": [
              "<Figure size 432x288 with 1 Axes>"
            ],
            "image/png": "[encoded data removed]"
          },
          "metadata": {
            "needs_background": "light"
          }
        }
      ]
    },
    {
      "cell_type": "markdown",
      "source": [
        "# Identities\n",
        "This section includes a dictionary of categories of identities (gender, sexual orientation, religion, etc...), and within each category it has groups. For example the Gender category has a male, female and transgender group. Each group is represented by a dictionary which has terms that this colab notebook will search for to identify the respective group.\n",
        "\n",
        "Users can add or remove to this dictionary as they'd like, no edits need to be made to future cells as long as this structure is followed."
      ],
      "metadata": {
        "id": "Z-vKxiAalE2O"
      }
    },
    {
      "cell_type": "markdown",
      "source": [
        "This dictionary of identities was inspired by the paper \"Nuanced Metrics for Measuring Unintended Bias with Real Data for Text Classification\""
      ],
      "metadata": {
        "id": "r59SBVVKoc9W"
      }
    },
    {
      "cell_type": "markdown",
      "source": [
        "Please note, capitalization doesn't matter, however suffixes, hyphens, and special characters do.\n",
        "\n",
        "If a word typically contains a hyphen or special character, please include both version of the word (e.g. Baha'i and Bahá’í or non-conforming and non conforming).\n",
        "\n",
        "Please keep in mind slang, different suffixes, and short forms for words.\n",
        "\n",
        "The algorithm will scan for exactly the terms that are inputted into the dictionary."
      ],
      "metadata": {
        "id": "ZrIhiiegpH6z"
      }
    },
    {
      "cell_type": "code",
      "source": [
        "\n",
        "Extended_Identities = {\"Gender\" : {\"Male\" : [\"Male\", \"Men\", \"Man\"],\\\n",
        "                                  \"Female\" : [\"Female\", \"Women\", \"Woman\"],\\\n",
        "                                  \"Transgender\" : [\"Transgender\", \"Trans\"],\\\n",
        "                                  \"Other Genders\": [\"Intersex\", \"Non-Conforming\",\"Non Conforming\", \"Agender\", \"Bigender\", \"Cisgender\",\"Gender Fluid\", \"Genderqueer\", \"Mx\", \"Gender Neutral\", \"Non-Binary\", \"Non Binary\", \"agender\", \"pangender\"]},\\\n",
        "              \"Sexual Orientation\" : {\"Heterosexual\" : [\"Heterosexual\",\"Straight\"],\\\n",
        "                                      \"Homosexual\" : [\"Homosexual\", \"Gay\", \"Lesbian\"],\\\n",
        "                                      \"Bisexual\": [\"Bisexual\"],\\\n",
        "                                      \"Other Sexual Orientations\" : [\"Asexual\"]},\\\n",
        "              \"Religion\" : {\"Christian\" : [\"Christian\", \"Christianity\"],\\\n",
        "                            \"Jewish\" : [\"Jewish\", \"Judaism\"],\\\n",
        "                            \"Muslim\" : [\"Muslim\", \"Islam\"],\\\n",
        "                            \"Hindu\": [\"Hindu\", \"Hinduism\"],\\\n",
        "                            \"Buddhist\" : [\"Buddhist\",\"Buddhism\"],\\\n",
        "                            \"Atheist\" : [\"Atheist\", \"Atheism\"],\\\n",
        "                            \"Other Religions\" : [\"Agnosticism\" \"Baha'i\", \"Bahá’í\", \"Confucianism\", \"Jainism\", \"Shinto\", \"Sikhism\", \"Taoism\", \"Zoroastrianism\", \"Druze\", \"Gnosticism\", \"Rastafarianism\", \"Traditional African Religions\", \"African Diaspora Religions\", \"Indigenous American Religions\"]},\n",
        "              \"Race/Ethnicity\" : {\"Black\" : [\"Black\", \"African\", \"African American\"],\\\n",
        "                                  \"White\" : [\"White\", \"Caucasian\", \"European\"],\\\n",
        "                                  \"Asian\" : [\"Asian\", \"Chinese\", \"Indian\", \"Japanese\", \"Korean\"],\\\n",
        "                                  \"Latino\" : [\"Latino\", \"Latina\", \"Latinx\"],\\\n",
        "                                  \"Other Races\" : [\"Indigenous\",\"Alaska Native\", \"American Indian\", \"Native\"]}, \\\n",
        "              \"Disability\" : {\"Physical disability\" : [\"Physical disability\"],\\\n",
        "                              \"Intellectual disability\" : [\"Intellectual disability\", \"learning disability\", \"autism\", \"spectrum disorder\", \"dyslexia\", \"dyslexic\"],\\\n",
        "                              \"Mental Illness\" : [\"Mental Illness\", \"Mentally Ill\", \"Psychiatric disability\", \"mental health\"],\\\n",
        "                              \"Other Disabilities\" : [\"vision Impairment\", \"deaf\", \"hard of hearing\", \"brain injury\"]}}\n"
      ],
      "metadata": {
        "id": "c6Nxh0p32Fw4"
      },
      "execution_count": null,
      "outputs": []
    },
    {
      "cell_type": "markdown",
      "source": [
        "# Add Identity Labels to Dataset\n",
        "\n",
        "Add columsn for each identity category defined in the Extended_Identities dictionary, and add labels for each identity group found."
      ],
      "metadata": {
        "id": "J1LL7rSrtWfK"
      }
    },
    {
      "cell_type": "code",
      "source": [
        "#inport libraries for data parsing. The LwrStpIntraAnalyzer will filter out unwanted punctuation, capitalization, and more\n",
        "import nltk\n",
        "from nltk.stem import *\n",
        "import string\n",
        "import numpy as np\n",
        "\n",
        "!pip install whoosh\n",
        "\n",
        "from whoosh import index, writing\n",
        "from whoosh.fields import Schema, TEXT, KEYWORD, ID, STORED\n",
        "from whoosh.analysis import *\n",
        "from whoosh.qparser import QueryParser\n",
        "\n",
        "LwrStpIntraAnalyzer = RegexTokenizer() | LowercaseFilter() | IntraWordFilter() | StopFilter()"
      ],
      "metadata": {
        "colab": {
          "base_uri": "https://localhost:8080/"
        },
        "id": "ii7wvg-0agwM",
        "outputId": "e338b232-b9b5-4e43-8b56-9032f2290d0d"
      },
      "execution_count": null,
      "outputs": [
        {
          "output_type": "stream",
          "name": "stdout",
          "text": [
            "Looking in indexes: https://pypi.org/simple, https://us-python.pkg.dev/colab-wheels/public/simple/\n",
            "Requirement already satisfied: whoosh in /usr/local/lib/python3.7/dist-packages (2.7.4)\n"
          ]
        }
      ]
    },
    {
      "cell_type": "code",
      "source": [
        "#Add columns for each category\n",
        "for category in Extended_Identities.keys():\n",
        "  df[category] = np.nan\n",
        "\n",
        "df.head()"
      ],
      "metadata": {
        "colab": {
          "base_uri": "https://localhost:8080/",
          "height": 206
        },
        "id": "H6yod5oSRu6M",
        "outputId": "6eface14-7996-4453-e763-0d6e436296c0"
      },
      "execution_count": null,
      "outputs": [
        {
          "output_type": "execute_result",
          "data": {
            "text/plain": [
              "                                                text  label label_name  \\\n",
              "0  Fears for T N pension after talks Unions repre...      2   Business   \n",
              "1  The Race is On: Second Private Team Sets Launc...      3   Sci/Tech   \n",
              "2  Ky. Company Wins Grant to Study Peptides (AP) ...      3   Sci/Tech   \n",
              "3  Prediction Unit Helps Forecast Wildfires (AP) ...      3   Sci/Tech   \n",
              "4  Calif. Aims to Limit Farm-Related Smog (AP) AP...      3   Sci/Tech   \n",
              "\n",
              "   Words Per Tweet  Gender  Sexual Orientation  Religion  Race/Ethnicity  \\\n",
              "0               25     NaN                 NaN       NaN             NaN   \n",
              "1               48     NaN                 NaN       NaN             NaN   \n",
              "2               45     NaN                 NaN       NaN             NaN   \n",
              "3               55     NaN                 NaN       NaN             NaN   \n",
              "4               34     NaN                 NaN       NaN             NaN   \n",
              "\n",
              "   Disability  \n",
              "0         NaN  \n",
              "1         NaN  \n",
              "2         NaN  \n",
              "3         NaN  \n",
              "4         NaN  "
            ],
            "text/html": [
              "\n",
              "  <div id=\"df-78eea955-e24b-4b46-80a6-d822d4cf72a1\">\n",
              "    <div class=\"colab-df-container\">\n",
              "      <div>\n",
              "<style scoped>\n",
              "    .dataframe tbody tr th:only-of-type {\n",
              "        vertical-align: middle;\n",
              "    }\n",
              "\n",
              "    .dataframe tbody tr th {\n",
              "        vertical-align: top;\n",
              "    }\n",
              "\n",
              "    .dataframe thead th {\n",
              "        text-align: right;\n",
              "    }\n",
              "</style>\n",
              "<table border=\"1\" class=\"dataframe\">\n",
              "  <thead>\n",
              "    <tr style=\"text-align: right;\">\n",
              "      <th></th>\n",
              "      <th>text</th>\n",
              "      <th>label</th>\n",
              "      <th>label_name</th>\n",
              "      <th>Words Per Tweet</th>\n",
              "      <th>Gender</th>\n",
              "      <th>Sexual Orientation</th>\n",
              "      <th>Religion</th>\n",
              "      <th>Race/Ethnicity</th>\n",
              "      <th>Disability</th>\n",
              "    </tr>\n",
              "  </thead>\n",
              "  <tbody>\n",
              "    <tr>\n",
              "      <th>0</th>\n",
              "      <td>Fears for T N pension after talks Unions repre...</td>\n",
              "      <td>2</td>\n",
              "      <td>Business</td>\n",
              "      <td>25</td>\n",
              "      <td>NaN</td>\n",
              "      <td>NaN</td>\n",
              "      <td>NaN</td>\n",
              "      <td>NaN</td>\n",
              "      <td>NaN</td>\n",
              "    </tr>\n",
              "    <tr>\n",
              "      <th>1</th>\n",
              "      <td>The Race is On: Second Private Team Sets Launc...</td>\n",
              "      <td>3</td>\n",
              "      <td>Sci/Tech</td>\n",
              "      <td>48</td>\n",
              "      <td>NaN</td>\n",
              "      <td>NaN</td>\n",
              "      <td>NaN</td>\n",
              "      <td>NaN</td>\n",
              "      <td>NaN</td>\n",
              "    </tr>\n",
              "    <tr>\n",
              "      <th>2</th>\n",
              "      <td>Ky. Company Wins Grant to Study Peptides (AP) ...</td>\n",
              "      <td>3</td>\n",
              "      <td>Sci/Tech</td>\n",
              "      <td>45</td>\n",
              "      <td>NaN</td>\n",
              "      <td>NaN</td>\n",
              "      <td>NaN</td>\n",
              "      <td>NaN</td>\n",
              "      <td>NaN</td>\n",
              "    </tr>\n",
              "    <tr>\n",
              "      <th>3</th>\n",
              "      <td>Prediction Unit Helps Forecast Wildfires (AP) ...</td>\n",
              "      <td>3</td>\n",
              "      <td>Sci/Tech</td>\n",
              "      <td>55</td>\n",
              "      <td>NaN</td>\n",
              "      <td>NaN</td>\n",
              "      <td>NaN</td>\n",
              "      <td>NaN</td>\n",
              "      <td>NaN</td>\n",
              "    </tr>\n",
              "    <tr>\n",
              "      <th>4</th>\n",
              "      <td>Calif. Aims to Limit Farm-Related Smog (AP) AP...</td>\n",
              "      <td>3</td>\n",
              "      <td>Sci/Tech</td>\n",
              "      <td>34</td>\n",
              "      <td>NaN</td>\n",
              "      <td>NaN</td>\n",
              "      <td>NaN</td>\n",
              "      <td>NaN</td>\n",
              "      <td>NaN</td>\n",
              "    </tr>\n",
              "  </tbody>\n",
              "</table>\n",
              "</div>\n",
              "      <button class=\"colab-df-convert\" onclick=\"convertToInteractive('df-78eea955-e24b-4b46-80a6-d822d4cf72a1')\"\n",
              "              title=\"Convert this dataframe to an interactive table.\"\n",
              "              style=\"display:none;\">\n",
              "        \n",
              "  <svg xmlns=\"http://www.w3.org/2000/svg\" height=\"24px\"viewBox=\"0 0 24 24\"\n",
              "       width=\"24px\">\n",
              "    <path d=\"M0 0h24v24H0V0z\" fill=\"none\"/>\n",
              "    <path d=\"M18.56 5.44l.94 2.06.94-2.06 2.06-.94-2.06-.94-.94-2.06-.94 2.06-2.06.94zm-11 1L8.5 8.5l.94-2.06 2.06-.94-2.06-.94L8.5 2.5l-.94 2.06-2.06.94zm10 10l.94 2.06.94-2.06 2.06-.94-2.06-.94-.94-2.06-.94 2.06-2.06.94z\"/><path d=\"M17.41 7.96l-1.37-1.37c-.4-.4-.92-.59-1.43-.59-.52 0-1.04.2-1.43.59L10.3 9.45l-7.72 7.72c-.78.78-.78 2.05 0 2.83L4 21.41c.39.39.9.59 1.41.59.51 0 1.02-.2 1.41-.59l7.78-7.78 2.81-2.81c.8-.78.8-2.07 0-2.86zM5.41 20L4 18.59l7.72-7.72 1.47 1.35L5.41 20z\"/>\n",
              "  </svg>\n",
              "      </button>\n",
              "      \n",
              "  <style>\n",
              "    .colab-df-container {\n",
              "      display:flex;\n",
              "      flex-wrap:wrap;\n",
              "      gap: 12px;\n",
              "    }\n",
              "\n",
              "    .colab-df-convert {\n",
              "      background-color: #E8F0FE;\n",
              "      border: none;\n",
              "      border-radius: 50%;\n",
              "      cursor: pointer;\n",
              "      display: none;\n",
              "      fill: #1967D2;\n",
              "      height: 32px;\n",
              "      padding: 0 0 0 0;\n",
              "      width: 32px;\n",
              "    }\n",
              "\n",
              "    .colab-df-convert:hover {\n",
              "      background-color: #E2EBFA;\n",
              "      box-shadow: 0px 1px 2px rgba(60, 64, 67, 0.3), 0px 1px 3px 1px rgba(60, 64, 67, 0.15);\n",
              "      fill: #174EA6;\n",
              "    }\n",
              "\n",
              "    [theme=dark] .colab-df-convert {\n",
              "      background-color: #3B4455;\n",
              "      fill: #D2E3FC;\n",
              "    }\n",
              "\n",
              "    [theme=dark] .colab-df-convert:hover {\n",
              "      background-color: #434B5C;\n",
              "      box-shadow: 0px 1px 3px 1px rgba(0, 0, 0, 0.15);\n",
              "      filter: drop-shadow(0px 1px 2px rgba(0, 0, 0, 0.3));\n",
              "      fill: #FFFFFF;\n",
              "    }\n",
              "  </style>\n",
              "\n",
              "      <script>\n",
              "        const buttonEl =\n",
              "          document.querySelector('#df-78eea955-e24b-4b46-80a6-d822d4cf72a1 button.colab-df-convert');\n",
              "        buttonEl.style.display =\n",
              "          google.colab.kernel.accessAllowed ? 'block' : 'none';\n",
              "\n",
              "        async function convertToInteractive(key) {\n",
              "          const element = document.querySelector('#df-78eea955-e24b-4b46-80a6-d822d4cf72a1');\n",
              "          const dataTable =\n",
              "            await google.colab.kernel.invokeFunction('convertToInteractive',\n",
              "                                                     [key], {});\n",
              "          if (!dataTable) return;\n",
              "\n",
              "          const docLinkHtml = 'Like what you see? Visit the ' +\n",
              "            '<a target=\"_blank\" href=https://colab.research.google.com/notebooks/data_table.ipynb>data table notebook</a>'\n",
              "            + ' to learn more about interactive tables.';\n",
              "          element.innerHTML = '';\n",
              "          dataTable['output_type'] = 'display_data';\n",
              "          await google.colab.output.renderOutput(dataTable, element);\n",
              "          const docLink = document.createElement('div');\n",
              "          docLink.innerHTML = docLinkHtml;\n",
              "          element.appendChild(docLink);\n",
              "        }\n",
              "      </script>\n",
              "    </div>\n",
              "  </div>\n",
              "  "
            ]
          },
          "metadata": {},
          "execution_count": 31
        }
      ]
    },
    {
      "cell_type": "code",
      "source": [
        "words_found = set() #keep track of words found in the dataset\n",
        "for category in Extended_Identities.keys():\n",
        "  for index in range(df.shape[0]):\n",
        "    text = df[\"text\"][index]\n",
        "    found_indentity = 0\n",
        "    for group in Extended_Identities[category]:\n",
        "\n",
        "      temp = [token.text for token in LwrStpIntraAnalyzer(text)]\n",
        "      indentity_terms = [x.lower() for x in Extended_Identities[category][group]]\n",
        "      for token in temp:\n",
        "        if token in indentity_terms:\n",
        "          words_found.add(token)\n",
        "          if found_indentity == 1:\n",
        "            existing_groups_found = df[category][index]\n",
        "            groups = existing_groups_found + \" \" + group\n",
        "            df[category][index] = groups\n",
        "          else:\n",
        "            df[category][index] = group\n",
        "            found_indentity = 1\n",
        "          break"
      ],
      "metadata": {
        "colab": {
          "base_uri": "https://localhost:8080/"
        },
        "id": "6PL2WNSeRL8V",
        "outputId": "987f0c49-a418-4a1b-c78a-f7131cd982db"
      },
      "execution_count": null,
      "outputs": [
        {
          "output_type": "stream",
          "name": "stderr",
          "text": [
            "/usr/local/lib/python3.7/dist-packages/ipykernel_launcher.py:18: SettingWithCopyWarning: \n",
            "A value is trying to be set on a copy of a slice from a DataFrame\n",
            "\n",
            "See the caveats in the documentation: https://pandas.pydata.org/pandas-docs/stable/user_guide/indexing.html#returning-a-view-versus-a-copy\n",
            "/usr/local/lib/python3.7/dist-packages/pandas/core/indexing.py:1732: SettingWithCopyWarning: \n",
            "A value is trying to be set on a copy of a slice from a DataFrame\n",
            "\n",
            "See the caveats in the documentation: https://pandas.pydata.org/pandas-docs/stable/user_guide/indexing.html#returning-a-view-versus-a-copy\n",
            "  self._setitem_single_block(indexer, value, name)\n"
          ]
        }
      ]
    },
    {
      "cell_type": "markdown",
      "source": [
        "Lets take a look at the kind of words found in the dataset"
      ],
      "metadata": {
        "id": "9uwkIB89uEIo"
      }
    },
    {
      "cell_type": "code",
      "source": [
        "words_found"
      ],
      "metadata": {
        "colab": {
          "base_uri": "https://localhost:8080/"
        },
        "id": "QG8X9CQZt31a",
        "outputId": "f7726006-ac2e-4d36-ce48-1a15ba397f8e"
      },
      "execution_count": null,
      "outputs": [
        {
          "output_type": "execute_result",
          "data": {
            "text/plain": [
              "{'african',\n",
              " 'asian',\n",
              " 'black',\n",
              " 'buddhist',\n",
              " 'chinese',\n",
              " 'christian',\n",
              " 'christianity',\n",
              " 'european',\n",
              " 'female',\n",
              " 'gay',\n",
              " 'indian',\n",
              " 'indigenous',\n",
              " 'islam',\n",
              " 'japanese',\n",
              " 'jewish',\n",
              " 'korean',\n",
              " 'male',\n",
              " 'man',\n",
              " 'men',\n",
              " 'muslim',\n",
              " 'native',\n",
              " 'straight',\n",
              " 'trans',\n",
              " 'white',\n",
              " 'woman',\n",
              " 'women'}"
            ]
          },
          "metadata": {},
          "execution_count": 33
        }
      ]
    },
    {
      "cell_type": "markdown",
      "source": [
        "This is what the labeled dataset looks like, however you might not see any identities found in the first 5 rows"
      ],
      "metadata": {
        "id": "4AZw1DiwuKGY"
      }
    },
    {
      "cell_type": "code",
      "source": [
        "df.head(5)"
      ],
      "metadata": {
        "colab": {
          "base_uri": "https://localhost:8080/",
          "height": 206
        },
        "id": "bSjm7w1Nt6Nc",
        "outputId": "32d65960-79e4-4ac7-c531-a7e123535516"
      },
      "execution_count": null,
      "outputs": [
        {
          "output_type": "execute_result",
          "data": {
            "text/plain": [
              "                                                text  label label_name  \\\n",
              "0  Fears for T N pension after talks Unions repre...      2   Business   \n",
              "1  The Race is On: Second Private Team Sets Launc...      3   Sci/Tech   \n",
              "2  Ky. Company Wins Grant to Study Peptides (AP) ...      3   Sci/Tech   \n",
              "3  Prediction Unit Helps Forecast Wildfires (AP) ...      3   Sci/Tech   \n",
              "4  Calif. Aims to Limit Farm-Related Smog (AP) AP...      3   Sci/Tech   \n",
              "\n",
              "   Words Per Tweet Gender Sexual Orientation Religion Race/Ethnicity  \\\n",
              "0               25    NaN                NaN      NaN            NaN   \n",
              "1               48    NaN                NaN      NaN            NaN   \n",
              "2               45    NaN                NaN      NaN            NaN   \n",
              "3               55    NaN                NaN      NaN            NaN   \n",
              "4               34    NaN                NaN      NaN            NaN   \n",
              "\n",
              "   Disability  \n",
              "0         NaN  \n",
              "1         NaN  \n",
              "2         NaN  \n",
              "3         NaN  \n",
              "4         NaN  "
            ],
            "text/html": [
              "\n",
              "  <div id=\"df-636f9780-19b9-4599-9c3f-2e90d8da6555\">\n",
              "    <div class=\"colab-df-container\">\n",
              "      <div>\n",
              "<style scoped>\n",
              "    .dataframe tbody tr th:only-of-type {\n",
              "        vertical-align: middle;\n",
              "    }\n",
              "\n",
              "    .dataframe tbody tr th {\n",
              "        vertical-align: top;\n",
              "    }\n",
              "\n",
              "    .dataframe thead th {\n",
              "        text-align: right;\n",
              "    }\n",
              "</style>\n",
              "<table border=\"1\" class=\"dataframe\">\n",
              "  <thead>\n",
              "    <tr style=\"text-align: right;\">\n",
              "      <th></th>\n",
              "      <th>text</th>\n",
              "      <th>label</th>\n",
              "      <th>label_name</th>\n",
              "      <th>Words Per Tweet</th>\n",
              "      <th>Gender</th>\n",
              "      <th>Sexual Orientation</th>\n",
              "      <th>Religion</th>\n",
              "      <th>Race/Ethnicity</th>\n",
              "      <th>Disability</th>\n",
              "    </tr>\n",
              "  </thead>\n",
              "  <tbody>\n",
              "    <tr>\n",
              "      <th>0</th>\n",
              "      <td>Fears for T N pension after talks Unions repre...</td>\n",
              "      <td>2</td>\n",
              "      <td>Business</td>\n",
              "      <td>25</td>\n",
              "      <td>NaN</td>\n",
              "      <td>NaN</td>\n",
              "      <td>NaN</td>\n",
              "      <td>NaN</td>\n",
              "      <td>NaN</td>\n",
              "    </tr>\n",
              "    <tr>\n",
              "      <th>1</th>\n",
              "      <td>The Race is On: Second Private Team Sets Launc...</td>\n",
              "      <td>3</td>\n",
              "      <td>Sci/Tech</td>\n",
              "      <td>48</td>\n",
              "      <td>NaN</td>\n",
              "      <td>NaN</td>\n",
              "      <td>NaN</td>\n",
              "      <td>NaN</td>\n",
              "      <td>NaN</td>\n",
              "    </tr>\n",
              "    <tr>\n",
              "      <th>2</th>\n",
              "      <td>Ky. Company Wins Grant to Study Peptides (AP) ...</td>\n",
              "      <td>3</td>\n",
              "      <td>Sci/Tech</td>\n",
              "      <td>45</td>\n",
              "      <td>NaN</td>\n",
              "      <td>NaN</td>\n",
              "      <td>NaN</td>\n",
              "      <td>NaN</td>\n",
              "      <td>NaN</td>\n",
              "    </tr>\n",
              "    <tr>\n",
              "      <th>3</th>\n",
              "      <td>Prediction Unit Helps Forecast Wildfires (AP) ...</td>\n",
              "      <td>3</td>\n",
              "      <td>Sci/Tech</td>\n",
              "      <td>55</td>\n",
              "      <td>NaN</td>\n",
              "      <td>NaN</td>\n",
              "      <td>NaN</td>\n",
              "      <td>NaN</td>\n",
              "      <td>NaN</td>\n",
              "    </tr>\n",
              "    <tr>\n",
              "      <th>4</th>\n",
              "      <td>Calif. Aims to Limit Farm-Related Smog (AP) AP...</td>\n",
              "      <td>3</td>\n",
              "      <td>Sci/Tech</td>\n",
              "      <td>34</td>\n",
              "      <td>NaN</td>\n",
              "      <td>NaN</td>\n",
              "      <td>NaN</td>\n",
              "      <td>NaN</td>\n",
              "      <td>NaN</td>\n",
              "    </tr>\n",
              "  </tbody>\n",
              "</table>\n",
              "</div>\n",
              "      <button class=\"colab-df-convert\" onclick=\"convertToInteractive('df-636f9780-19b9-4599-9c3f-2e90d8da6555')\"\n",
              "              title=\"Convert this dataframe to an interactive table.\"\n",
              "              style=\"display:none;\">\n",
              "        \n",
              "  <svg xmlns=\"http://www.w3.org/2000/svg\" height=\"24px\"viewBox=\"0 0 24 24\"\n",
              "       width=\"24px\">\n",
              "    <path d=\"M0 0h24v24H0V0z\" fill=\"none\"/>\n",
              "    <path d=\"M18.56 5.44l.94 2.06.94-2.06 2.06-.94-2.06-.94-.94-2.06-.94 2.06-2.06.94zm-11 1L8.5 8.5l.94-2.06 2.06-.94-2.06-.94L8.5 2.5l-.94 2.06-2.06.94zm10 10l.94 2.06.94-2.06 2.06-.94-2.06-.94-.94-2.06-.94 2.06-2.06.94z\"/><path d=\"M17.41 7.96l-1.37-1.37c-.4-.4-.92-.59-1.43-.59-.52 0-1.04.2-1.43.59L10.3 9.45l-7.72 7.72c-.78.78-.78 2.05 0 2.83L4 21.41c.39.39.9.59 1.41.59.51 0 1.02-.2 1.41-.59l7.78-7.78 2.81-2.81c.8-.78.8-2.07 0-2.86zM5.41 20L4 18.59l7.72-7.72 1.47 1.35L5.41 20z\"/>\n",
              "  </svg>\n",
              "      </button>\n",
              "      \n",
              "  <style>\n",
              "    .colab-df-container {\n",
              "      display:flex;\n",
              "      flex-wrap:wrap;\n",
              "      gap: 12px;\n",
              "    }\n",
              "\n",
              "    .colab-df-convert {\n",
              "      background-color: #E8F0FE;\n",
              "      border: none;\n",
              "      border-radius: 50%;\n",
              "      cursor: pointer;\n",
              "      display: none;\n",
              "      fill: #1967D2;\n",
              "      height: 32px;\n",
              "      padding: 0 0 0 0;\n",
              "      width: 32px;\n",
              "    }\n",
              "\n",
              "    .colab-df-convert:hover {\n",
              "      background-color: #E2EBFA;\n",
              "      box-shadow: 0px 1px 2px rgba(60, 64, 67, 0.3), 0px 1px 3px 1px rgba(60, 64, 67, 0.15);\n",
              "      fill: #174EA6;\n",
              "    }\n",
              "\n",
              "    [theme=dark] .colab-df-convert {\n",
              "      background-color: #3B4455;\n",
              "      fill: #D2E3FC;\n",
              "    }\n",
              "\n",
              "    [theme=dark] .colab-df-convert:hover {\n",
              "      background-color: #434B5C;\n",
              "      box-shadow: 0px 1px 3px 1px rgba(0, 0, 0, 0.15);\n",
              "      filter: drop-shadow(0px 1px 2px rgba(0, 0, 0, 0.3));\n",
              "      fill: #FFFFFF;\n",
              "    }\n",
              "  </style>\n",
              "\n",
              "      <script>\n",
              "        const buttonEl =\n",
              "          document.querySelector('#df-636f9780-19b9-4599-9c3f-2e90d8da6555 button.colab-df-convert');\n",
              "        buttonEl.style.display =\n",
              "          google.colab.kernel.accessAllowed ? 'block' : 'none';\n",
              "\n",
              "        async function convertToInteractive(key) {\n",
              "          const element = document.querySelector('#df-636f9780-19b9-4599-9c3f-2e90d8da6555');\n",
              "          const dataTable =\n",
              "            await google.colab.kernel.invokeFunction('convertToInteractive',\n",
              "                                                     [key], {});\n",
              "          if (!dataTable) return;\n",
              "\n",
              "          const docLinkHtml = 'Like what you see? Visit the ' +\n",
              "            '<a target=\"_blank\" href=https://colab.research.google.com/notebooks/data_table.ipynb>data table notebook</a>'\n",
              "            + ' to learn more about interactive tables.';\n",
              "          element.innerHTML = '';\n",
              "          dataTable['output_type'] = 'display_data';\n",
              "          await google.colab.output.renderOutput(dataTable, element);\n",
              "          const docLink = document.createElement('div');\n",
              "          docLink.innerHTML = docLinkHtml;\n",
              "          element.appendChild(docLink);\n",
              "        }\n",
              "      </script>\n",
              "    </div>\n",
              "  </div>\n",
              "  "
            ]
          },
          "metadata": {},
          "execution_count": 34
        }
      ]
    },
    {
      "cell_type": "markdown",
      "source": [
        "Lets create a dictionary of only texts that contained at least one identity term"
      ],
      "metadata": {
        "id": "wo6jFy_BuSH4"
      }
    },
    {
      "cell_type": "code",
      "source": [
        "identities_df = df.dropna(how = 'all',subset=list(Extended_Identities.keys()))\n",
        "identities_df.head(20)"
      ],
      "metadata": {
        "colab": {
          "base_uri": "https://localhost:8080/",
          "height": 677
        },
        "id": "1x1jb5pETv8o",
        "outputId": "3552775d-254e-49f9-a77a-a5b5c8963cc2"
      },
      "execution_count": null,
      "outputs": [
        {
          "output_type": "execute_result",
          "data": {
            "text/plain": [
              "                                                  text  label label_name  \\\n",
              "17   Mars Rovers Relay Images Through Mars Express ...      3   Sci/Tech   \n",
              "32   Sister of man who died in Vancouver police cus...      0      World   \n",
              "33   Man Sought  #36;50M From McGreevey, Aides Say ...      0      World   \n",
              "43   Spam suspension hits Sohu.com shares (FT.com) ...      3   Sci/Tech   \n",
              "48   China Says Taiwan Spy Also Operated in U.S. - ...      0      World   \n",
              "50   US fighter squadron to be deployed in South Ko...      0      World   \n",
              "56   India's Tata expands regional footprint via Na...      0      World   \n",
              "62   Natalie Coughlin Wins 100M Backstroke (AP) AP ...      1     Sports   \n",
              "65   Indian state rolls out wireless broadband Gove...      3   Sci/Tech   \n",
              "69   Suspect charged in abduction, sexual assault o...      0      World   \n",
              "76   North Korea Talks Still On, China Tells Downer...      0      World   \n",
              "87   Fischer's Fiancee: Marriage Plans Genuine (AP)...      0      World   \n",
              "97   Staples Profit Up, to Enter China Market  NEW ...      2   Business   \n",
              "100  Olympic history for India, UAE An Indian army ...      1     Sports   \n",
              "104  Mr Downer shoots his mouth off Just what Alexa...      0      World   \n",
              "106  Stocks Climb on Drop in Consumer Prices NEW YO...      0      World   \n",
              "108  Sudan vows to restore order to Darfur but call...      0      World   \n",
              "119  Women stumble to silver ATHENS -- The mistakes...      1     Sports   \n",
              "128  UPI NewsTrack Sports -- The United States men ...      1     Sports   \n",
              "129  Peace delegation leaves Najaf empty-handed as ...      0      World   \n",
              "\n",
              "     Words Per Tweet  Gender Sexual Orientation Religion Race/Ethnicity  \\\n",
              "17                52     NaN                NaN      NaN          White   \n",
              "32                44    Male                NaN      NaN            NaN   \n",
              "33                52    Male         Homosexual      NaN            NaN   \n",
              "43                47     NaN                NaN      NaN          Asian   \n",
              "48                42     NaN                NaN      NaN          Asian   \n",
              "50                47     NaN                NaN      NaN          Asian   \n",
              "56                41     NaN                NaN      NaN          Asian   \n",
              "62                64  Female                NaN      NaN            NaN   \n",
              "65                25     NaN                NaN      NaN          Asian   \n",
              "69                41    Male                NaN      NaN            NaN   \n",
              "76                43     NaN                NaN      NaN          Asian   \n",
              "87                46  Female                NaN      NaN          Asian   \n",
              "97                50     NaN                NaN      NaN          Asian   \n",
              "100               46     NaN                NaN      NaN          Asian   \n",
              "104               51     NaN                NaN      NaN          Asian   \n",
              "106               63     NaN       Heterosexual      NaN            NaN   \n",
              "108               44     NaN                NaN      NaN          Black   \n",
              "119               41  Female                NaN      NaN            NaN   \n",
              "128               45    Male                NaN      NaN            NaN   \n",
              "129               34     NaN                NaN   Muslim            NaN   \n",
              "\n",
              "     Disability  \n",
              "17          NaN  \n",
              "32          NaN  \n",
              "33          NaN  \n",
              "43          NaN  \n",
              "48          NaN  \n",
              "50          NaN  \n",
              "56          NaN  \n",
              "62          NaN  \n",
              "65          NaN  \n",
              "69          NaN  \n",
              "76          NaN  \n",
              "87          NaN  \n",
              "97          NaN  \n",
              "100         NaN  \n",
              "104         NaN  \n",
              "106         NaN  \n",
              "108         NaN  \n",
              "119         NaN  \n",
              "128         NaN  \n",
              "129         NaN  "
            ],
            "text/html": [
              "\n",
              "  <div id=\"df-2c3718dc-cfb1-46ec-b48e-be6814fc80f0\">\n",
              "    <div class=\"colab-df-container\">\n",
              "      <div>\n",
              "<style scoped>\n",
              "    .dataframe tbody tr th:only-of-type {\n",
              "        vertical-align: middle;\n",
              "    }\n",
              "\n",
              "    .dataframe tbody tr th {\n",
              "        vertical-align: top;\n",
              "    }\n",
              "\n",
              "    .dataframe thead th {\n",
              "        text-align: right;\n",
              "    }\n",
              "</style>\n",
              "<table border=\"1\" class=\"dataframe\">\n",
              "  <thead>\n",
              "    <tr style=\"text-align: right;\">\n",
              "      <th></th>\n",
              "      <th>text</th>\n",
              "      <th>label</th>\n",
              "      <th>label_name</th>\n",
              "      <th>Words Per Tweet</th>\n",
              "      <th>Gender</th>\n",
              "      <th>Sexual Orientation</th>\n",
              "      <th>Religion</th>\n",
              "      <th>Race/Ethnicity</th>\n",
              "      <th>Disability</th>\n",
              "    </tr>\n",
              "  </thead>\n",
              "  <tbody>\n",
              "    <tr>\n",
              "      <th>17</th>\n",
              "      <td>Mars Rovers Relay Images Through Mars Express ...</td>\n",
              "      <td>3</td>\n",
              "      <td>Sci/Tech</td>\n",
              "      <td>52</td>\n",
              "      <td>NaN</td>\n",
              "      <td>NaN</td>\n",
              "      <td>NaN</td>\n",
              "      <td>White</td>\n",
              "      <td>NaN</td>\n",
              "    </tr>\n",
              "    <tr>\n",
              "      <th>32</th>\n",
              "      <td>Sister of man who died in Vancouver police cus...</td>\n",
              "      <td>0</td>\n",
              "      <td>World</td>\n",
              "      <td>44</td>\n",
              "      <td>Male</td>\n",
              "      <td>NaN</td>\n",
              "      <td>NaN</td>\n",
              "      <td>NaN</td>\n",
              "      <td>NaN</td>\n",
              "    </tr>\n",
              "    <tr>\n",
              "      <th>33</th>\n",
              "      <td>Man Sought  #36;50M From McGreevey, Aides Say ...</td>\n",
              "      <td>0</td>\n",
              "      <td>World</td>\n",
              "      <td>52</td>\n",
              "      <td>Male</td>\n",
              "      <td>Homosexual</td>\n",
              "      <td>NaN</td>\n",
              "      <td>NaN</td>\n",
              "      <td>NaN</td>\n",
              "    </tr>\n",
              "    <tr>\n",
              "      <th>43</th>\n",
              "      <td>Spam suspension hits Sohu.com shares (FT.com) ...</td>\n",
              "      <td>3</td>\n",
              "      <td>Sci/Tech</td>\n",
              "      <td>47</td>\n",
              "      <td>NaN</td>\n",
              "      <td>NaN</td>\n",
              "      <td>NaN</td>\n",
              "      <td>Asian</td>\n",
              "      <td>NaN</td>\n",
              "    </tr>\n",
              "    <tr>\n",
              "      <th>48</th>\n",
              "      <td>China Says Taiwan Spy Also Operated in U.S. - ...</td>\n",
              "      <td>0</td>\n",
              "      <td>World</td>\n",
              "      <td>42</td>\n",
              "      <td>NaN</td>\n",
              "      <td>NaN</td>\n",
              "      <td>NaN</td>\n",
              "      <td>Asian</td>\n",
              "      <td>NaN</td>\n",
              "    </tr>\n",
              "    <tr>\n",
              "      <th>50</th>\n",
              "      <td>US fighter squadron to be deployed in South Ko...</td>\n",
              "      <td>0</td>\n",
              "      <td>World</td>\n",
              "      <td>47</td>\n",
              "      <td>NaN</td>\n",
              "      <td>NaN</td>\n",
              "      <td>NaN</td>\n",
              "      <td>Asian</td>\n",
              "      <td>NaN</td>\n",
              "    </tr>\n",
              "    <tr>\n",
              "      <th>56</th>\n",
              "      <td>India's Tata expands regional footprint via Na...</td>\n",
              "      <td>0</td>\n",
              "      <td>World</td>\n",
              "      <td>41</td>\n",
              "      <td>NaN</td>\n",
              "      <td>NaN</td>\n",
              "      <td>NaN</td>\n",
              "      <td>Asian</td>\n",
              "      <td>NaN</td>\n",
              "    </tr>\n",
              "    <tr>\n",
              "      <th>62</th>\n",
              "      <td>Natalie Coughlin Wins 100M Backstroke (AP) AP ...</td>\n",
              "      <td>1</td>\n",
              "      <td>Sports</td>\n",
              "      <td>64</td>\n",
              "      <td>Female</td>\n",
              "      <td>NaN</td>\n",
              "      <td>NaN</td>\n",
              "      <td>NaN</td>\n",
              "      <td>NaN</td>\n",
              "    </tr>\n",
              "    <tr>\n",
              "      <th>65</th>\n",
              "      <td>Indian state rolls out wireless broadband Gove...</td>\n",
              "      <td>3</td>\n",
              "      <td>Sci/Tech</td>\n",
              "      <td>25</td>\n",
              "      <td>NaN</td>\n",
              "      <td>NaN</td>\n",
              "      <td>NaN</td>\n",
              "      <td>Asian</td>\n",
              "      <td>NaN</td>\n",
              "    </tr>\n",
              "    <tr>\n",
              "      <th>69</th>\n",
              "      <td>Suspect charged in abduction, sexual assault o...</td>\n",
              "      <td>0</td>\n",
              "      <td>World</td>\n",
              "      <td>41</td>\n",
              "      <td>Male</td>\n",
              "      <td>NaN</td>\n",
              "      <td>NaN</td>\n",
              "      <td>NaN</td>\n",
              "      <td>NaN</td>\n",
              "    </tr>\n",
              "    <tr>\n",
              "      <th>76</th>\n",
              "      <td>North Korea Talks Still On, China Tells Downer...</td>\n",
              "      <td>0</td>\n",
              "      <td>World</td>\n",
              "      <td>43</td>\n",
              "      <td>NaN</td>\n",
              "      <td>NaN</td>\n",
              "      <td>NaN</td>\n",
              "      <td>Asian</td>\n",
              "      <td>NaN</td>\n",
              "    </tr>\n",
              "    <tr>\n",
              "      <th>87</th>\n",
              "      <td>Fischer's Fiancee: Marriage Plans Genuine (AP)...</td>\n",
              "      <td>0</td>\n",
              "      <td>World</td>\n",
              "      <td>46</td>\n",
              "      <td>Female</td>\n",
              "      <td>NaN</td>\n",
              "      <td>NaN</td>\n",
              "      <td>Asian</td>\n",
              "      <td>NaN</td>\n",
              "    </tr>\n",
              "    <tr>\n",
              "      <th>97</th>\n",
              "      <td>Staples Profit Up, to Enter China Market  NEW ...</td>\n",
              "      <td>2</td>\n",
              "      <td>Business</td>\n",
              "      <td>50</td>\n",
              "      <td>NaN</td>\n",
              "      <td>NaN</td>\n",
              "      <td>NaN</td>\n",
              "      <td>Asian</td>\n",
              "      <td>NaN</td>\n",
              "    </tr>\n",
              "    <tr>\n",
              "      <th>100</th>\n",
              "      <td>Olympic history for India, UAE An Indian army ...</td>\n",
              "      <td>1</td>\n",
              "      <td>Sports</td>\n",
              "      <td>46</td>\n",
              "      <td>NaN</td>\n",
              "      <td>NaN</td>\n",
              "      <td>NaN</td>\n",
              "      <td>Asian</td>\n",
              "      <td>NaN</td>\n",
              "    </tr>\n",
              "    <tr>\n",
              "      <th>104</th>\n",
              "      <td>Mr Downer shoots his mouth off Just what Alexa...</td>\n",
              "      <td>0</td>\n",
              "      <td>World</td>\n",
              "      <td>51</td>\n",
              "      <td>NaN</td>\n",
              "      <td>NaN</td>\n",
              "      <td>NaN</td>\n",
              "      <td>Asian</td>\n",
              "      <td>NaN</td>\n",
              "    </tr>\n",
              "    <tr>\n",
              "      <th>106</th>\n",
              "      <td>Stocks Climb on Drop in Consumer Prices NEW YO...</td>\n",
              "      <td>0</td>\n",
              "      <td>World</td>\n",
              "      <td>63</td>\n",
              "      <td>NaN</td>\n",
              "      <td>Heterosexual</td>\n",
              "      <td>NaN</td>\n",
              "      <td>NaN</td>\n",
              "      <td>NaN</td>\n",
              "    </tr>\n",
              "    <tr>\n",
              "      <th>108</th>\n",
              "      <td>Sudan vows to restore order to Darfur but call...</td>\n",
              "      <td>0</td>\n",
              "      <td>World</td>\n",
              "      <td>44</td>\n",
              "      <td>NaN</td>\n",
              "      <td>NaN</td>\n",
              "      <td>NaN</td>\n",
              "      <td>Black</td>\n",
              "      <td>NaN</td>\n",
              "    </tr>\n",
              "    <tr>\n",
              "      <th>119</th>\n",
              "      <td>Women stumble to silver ATHENS -- The mistakes...</td>\n",
              "      <td>1</td>\n",
              "      <td>Sports</td>\n",
              "      <td>41</td>\n",
              "      <td>Female</td>\n",
              "      <td>NaN</td>\n",
              "      <td>NaN</td>\n",
              "      <td>NaN</td>\n",
              "      <td>NaN</td>\n",
              "    </tr>\n",
              "    <tr>\n",
              "      <th>128</th>\n",
              "      <td>UPI NewsTrack Sports -- The United States men ...</td>\n",
              "      <td>1</td>\n",
              "      <td>Sports</td>\n",
              "      <td>45</td>\n",
              "      <td>Male</td>\n",
              "      <td>NaN</td>\n",
              "      <td>NaN</td>\n",
              "      <td>NaN</td>\n",
              "      <td>NaN</td>\n",
              "    </tr>\n",
              "    <tr>\n",
              "      <th>129</th>\n",
              "      <td>Peace delegation leaves Najaf empty-handed as ...</td>\n",
              "      <td>0</td>\n",
              "      <td>World</td>\n",
              "      <td>34</td>\n",
              "      <td>NaN</td>\n",
              "      <td>NaN</td>\n",
              "      <td>Muslim</td>\n",
              "      <td>NaN</td>\n",
              "      <td>NaN</td>\n",
              "    </tr>\n",
              "  </tbody>\n",
              "</table>\n",
              "</div>\n",
              "      <button class=\"colab-df-convert\" onclick=\"convertToInteractive('df-2c3718dc-cfb1-46ec-b48e-be6814fc80f0')\"\n",
              "              title=\"Convert this dataframe to an interactive table.\"\n",
              "              style=\"display:none;\">\n",
              "        \n",
              "  <svg xmlns=\"http://www.w3.org/2000/svg\" height=\"24px\"viewBox=\"0 0 24 24\"\n",
              "       width=\"24px\">\n",
              "    <path d=\"M0 0h24v24H0V0z\" fill=\"none\"/>\n",
              "    <path d=\"M18.56 5.44l.94 2.06.94-2.06 2.06-.94-2.06-.94-.94-2.06-.94 2.06-2.06.94zm-11 1L8.5 8.5l.94-2.06 2.06-.94-2.06-.94L8.5 2.5l-.94 2.06-2.06.94zm10 10l.94 2.06.94-2.06 2.06-.94-2.06-.94-.94-2.06-.94 2.06-2.06.94z\"/><path d=\"M17.41 7.96l-1.37-1.37c-.4-.4-.92-.59-1.43-.59-.52 0-1.04.2-1.43.59L10.3 9.45l-7.72 7.72c-.78.78-.78 2.05 0 2.83L4 21.41c.39.39.9.59 1.41.59.51 0 1.02-.2 1.41-.59l7.78-7.78 2.81-2.81c.8-.78.8-2.07 0-2.86zM5.41 20L4 18.59l7.72-7.72 1.47 1.35L5.41 20z\"/>\n",
              "  </svg>\n",
              "      </button>\n",
              "      \n",
              "  <style>\n",
              "    .colab-df-container {\n",
              "      display:flex;\n",
              "      flex-wrap:wrap;\n",
              "      gap: 12px;\n",
              "    }\n",
              "\n",
              "    .colab-df-convert {\n",
              "      background-color: #E8F0FE;\n",
              "      border: none;\n",
              "      border-radius: 50%;\n",
              "      cursor: pointer;\n",
              "      display: none;\n",
              "      fill: #1967D2;\n",
              "      height: 32px;\n",
              "      padding: 0 0 0 0;\n",
              "      width: 32px;\n",
              "    }\n",
              "\n",
              "    .colab-df-convert:hover {\n",
              "      background-color: #E2EBFA;\n",
              "      box-shadow: 0px 1px 2px rgba(60, 64, 67, 0.3), 0px 1px 3px 1px rgba(60, 64, 67, 0.15);\n",
              "      fill: #174EA6;\n",
              "    }\n",
              "\n",
              "    [theme=dark] .colab-df-convert {\n",
              "      background-color: #3B4455;\n",
              "      fill: #D2E3FC;\n",
              "    }\n",
              "\n",
              "    [theme=dark] .colab-df-convert:hover {\n",
              "      background-color: #434B5C;\n",
              "      box-shadow: 0px 1px 3px 1px rgba(0, 0, 0, 0.15);\n",
              "      filter: drop-shadow(0px 1px 2px rgba(0, 0, 0, 0.3));\n",
              "      fill: #FFFFFF;\n",
              "    }\n",
              "  </style>\n",
              "\n",
              "      <script>\n",
              "        const buttonEl =\n",
              "          document.querySelector('#df-2c3718dc-cfb1-46ec-b48e-be6814fc80f0 button.colab-df-convert');\n",
              "        buttonEl.style.display =\n",
              "          google.colab.kernel.accessAllowed ? 'block' : 'none';\n",
              "\n",
              "        async function convertToInteractive(key) {\n",
              "          const element = document.querySelector('#df-2c3718dc-cfb1-46ec-b48e-be6814fc80f0');\n",
              "          const dataTable =\n",
              "            await google.colab.kernel.invokeFunction('convertToInteractive',\n",
              "                                                     [key], {});\n",
              "          if (!dataTable) return;\n",
              "\n",
              "          const docLinkHtml = 'Like what you see? Visit the ' +\n",
              "            '<a target=\"_blank\" href=https://colab.research.google.com/notebooks/data_table.ipynb>data table notebook</a>'\n",
              "            + ' to learn more about interactive tables.';\n",
              "          element.innerHTML = '';\n",
              "          dataTable['output_type'] = 'display_data';\n",
              "          await google.colab.output.renderOutput(dataTable, element);\n",
              "          const docLink = document.createElement('div');\n",
              "          docLink.innerHTML = docLinkHtml;\n",
              "          element.appendChild(docLink);\n",
              "        }\n",
              "      </script>\n",
              "    </div>\n",
              "  </div>\n",
              "  "
            ]
          },
          "metadata": {},
          "execution_count": 35
        }
      ]
    },
    {
      "cell_type": "markdown",
      "source": [
        "One feature of this algorithm, is that it will add labels if multiple groups per category is found. For example, if a sentence includes \"man\" and \"female\", the label will become \"Male Female\". Lets take a look at one of these examples directly from the dataset."
      ],
      "metadata": {
        "id": "rHIjd5zxubGr"
      }
    },
    {
      "cell_type": "code",
      "source": [
        "male_and_female_examples = pd.DataFrame.to_csv(identities_df.loc[df['Gender'] == 'Male Female'][:1]['text'])\n",
        "print(male_and_female_examples)\n"
      ],
      "metadata": {
        "colab": {
          "base_uri": "https://localhost:8080/"
        },
        "id": "bHxI8Opgrhm1",
        "outputId": "e9c956cd-c9d8-4e0a-b40a-c2da6ae4e4d0"
      },
      "execution_count": null,
      "outputs": [
        {
          "output_type": "stream",
          "name": "stdout",
          "text": [
            ",text\n",
            "364,\"Three People Killed at Afghan Checkpoint  KABUL (Reuters) - A man and two women were shot dead by  Afghan and U.S.-led troops after their vehicle ran through a  checkpoint on Saturday, a U.S. military statement said.\"\n",
            "\n"
          ]
        }
      ]
    },
    {
      "cell_type": "markdown",
      "source": [
        "Lets have a look at the distribution of classes now that only terms including identities were kept."
      ],
      "metadata": {
        "id": "UQFs90Dxu1MA"
      }
    },
    {
      "cell_type": "code",
      "source": [
        "identities_df[\"label_name\"].value_counts(ascending=True).plot.barh()\n",
        "plt.title(\"Frequency of Classes\")\n",
        "plt.show()"
      ],
      "metadata": {
        "colab": {
          "base_uri": "https://localhost:8080/",
          "height": 281
        },
        "id": "ICRNIdSuUrhH",
        "outputId": "178bcc84-482f-4863-8499-e50134d761c0"
      },
      "execution_count": null,
      "outputs": [
        {
          "output_type": "display_data",
          "data": {
            "text/plain": [
              "<Figure size 432x288 with 1 Axes>"
            ],
            "image/png": "[encoded data removed]"
          },
          "metadata": {
            "needs_background": "light"
          }
        }
      ]
    },
    {
      "cell_type": "markdown",
      "source": [
        "Lets compile a figure of plots with the total distribution breakdown: by categories and groups."
      ],
      "metadata": {
        "id": "jqXwHdQBu9a9"
      }
    },
    {
      "cell_type": "code",
      "source": [
        "def plot_distributions(plot_df):\n",
        "  #Fill out subplot dimensions\n",
        "  categories = []\n",
        "  category_counts = []\n",
        "  for category in Extended_Identities.keys():\n",
        "    categories.append(category)\n",
        "    category_counts.append(plot_df[category].count())\n",
        "\n",
        "  x_dim = 3\n",
        "  y_dim = int(len(Extended_Identities)/x_dim) + 1\n",
        "  subplot_ind = 1\n",
        "\n",
        "  # fig = plt.figure()\n",
        "  fig, axs = plt.subplots(y_dim, x_dim, figsize=(10, 5))\n",
        "\n",
        "  #First plot\n",
        "  plt.subplot(y_dim, x_dim, subplot_ind)\n",
        "  plt.barh(categories, category_counts)\n",
        "  plt.title(\"Categories\")\n",
        "\n",
        "  for category in Extended_Identities.keys():\n",
        "    subplot_ind += 1\n",
        "    plt.subplot(y_dim, x_dim, subplot_ind)\n",
        "    if plot_df[category].count() > 0:\n",
        "      plot_df[category].value_counts(ascending=True).plot.barh()\n",
        "    plt.title(category)\n",
        "\n",
        "  plt.tight_layout()\n",
        "\n",
        "plot_distributions(identities_df)"
      ],
      "metadata": {
        "colab": {
          "base_uri": "https://localhost:8080/",
          "height": 369
        },
        "id": "7bJDMWWUUvj2",
        "outputId": "80b8a202-f7c6-409b-caef-9e0083ebb10d"
      },
      "execution_count": null,
      "outputs": [
        {
          "output_type": "display_data",
          "data": {
            "text/plain": [
              "<Figure size 720x360 with 6 Axes>"
            ],
            "image/png": "[encoded data removed]"
          },
          "metadata": {
            "needs_background": "light"
          }
        }
      ]
    },
    {
      "cell_type": "markdown",
      "source": [
        "There may be empty plots, which means none of the terms specified in that category were found in the dataset."
      ],
      "metadata": {
        "id": "1hGJaY0Vvf8_"
      }
    },
    {
      "cell_type": "markdown",
      "source": [
        "Download the dataset into a csv to have a closer look at it"
      ],
      "metadata": {
        "id": "a2vTb1qgyPmG"
      }
    },
    {
      "cell_type": "code",
      "source": [
        "\n",
        "def download_dataset(dataset, dataset_name):\n",
        "  file_name = '{fname}.csv'.format(fname = dataset_name)\n",
        "  compression_opts = dict(method='zip',\n",
        "                          archive_name=file_name)\n",
        "  zip_name = '{fname}.zip'.format(fname = dataset_name)\n",
        "  dataset.to_csv(zip_name, index=False,\n",
        "            compression=compression_opts)  \n",
        "  \n",
        "download_dataset(identities_df, \"Identities_Df\")"
      ],
      "metadata": {
        "id": "mqUbD97yToe9"
      },
      "execution_count": null,
      "outputs": []
    },
    {
      "cell_type": "markdown",
      "source": [
        "# Input Template Dataset\n",
        "\n",
        "In this section, take time to look at the dataset outputted by the previous steps. Ensure the quality of the dataset you are going to imput as the \"template dataset\" (meaning the texts given will be duplicated and identities terms will be replaced with terms from different identity groups). You can delete examples you think are irrelevant, add examples, or create your own tempalte dataset.\n",
        "\n",
        "\n",
        "              "
      ],
      "metadata": {
        "id": "SlckqkD7v-Qz"
      }
    },
    {
      "cell_type": "markdown",
      "source": [
        "\n",
        "To create your own template dataset, either create a csv with texts and classification but no identitification labels and input it at the top of the colab notebook, or import the csv with classifications and identification labels (that match the order of the Extended_Identifications dictionaries) and proceed.\n",
        "\n",
        "If you want to create your own templates (e.g. The ____ scientist won a Nobel prize in 1988), insert a term within the identity category you want to have variations from.\n",
        "\n",
        "e.g. lets assume you are only looking at male and female gender bias\n",
        "\n",
        "Your Exetended_Identities is as follows:\n",
        "\n",
        "\n",
        "Extended_Identities = {\"Gender\" : {\"Male\" : [\"Male\", \"Men\", \"Man\"], \"Female\" : [\"Female\", \"Women\", \"Woman\"]}}\n",
        "\n",
        "You want the sentence \n",
        "\n",
        "\"The ____ scientist won a Nobel prize in 1988\" \n",
        "\n",
        "to have a version with the Male label and a version with the Female label. Simply replace the ___ with a term from that category, and the algorithm will find it can replace it with a term from the other group within the gender category. In this example the input and output will be as follows:\n",
        "\n",
        "**Input:**\n",
        "(csv)\n",
        "\n",
        "Text, Label     \n",
        "\n",
        "\"The male scientist won a Nobel prize in 1988\", 1\n",
        "\n",
        "\"The shocking income of professional female football stars\", 0\n",
        "\n",
        "**Output:**\n",
        "(csv)\n",
        "\n",
        "Text, Label, Gender\n",
        "\n",
        "\"The male scientist won a Nobel prize in 1988\", 1, \"Male\"\n",
        "\n",
        "\"The female scientist won a Nobel prize in 1988\", 1, \"Female\"\n",
        "\n",
        "\"The shocking income of professional female football stars\", 0, \"Female\"\n",
        "\n",
        "\"The shocking income of professional male football stars\", 0, \"Male\""
      ],
      "metadata": {
        "id": "5KGTmFKQ5aCu"
      }
    },
    {
      "cell_type": "code",
      "source": [
        "identities_df = identities_df #replace this with an import statement if needed"
      ],
      "metadata": {
        "id": "QGkzN_-40W1L"
      },
      "execution_count": null,
      "outputs": []
    },
    {
      "cell_type": "markdown",
      "source": [
        "# Generate Expanded Identities Dataset"
      ],
      "metadata": {
        "id": "B6gJ57T70bOj"
      }
    },
    {
      "cell_type": "code",
      "source": [
        "#this function picks the term from the identity group. It selects randomly\n",
        "#this function could be replaced with a direct mapping of terms e.g. Male -> Female, Man -> Woman\n",
        "#however the if your NLP model uses a word representation model like BERT or Glove, the mapping of woman vs female will be very similar\n",
        "def random_choice(Identities_less_real_group, new_group):\n",
        "  return random.choice(Identities_less_real_group[new_group]).lower()\n",
        "\n",
        "columns = list(identities_df.columns)\n",
        "\n",
        "import random\n",
        "new_entries = []\n",
        "\n",
        "for row in identities_df.iterrows():\n",
        "  index = row[0]\n",
        "  for category in Extended_Identities.keys():\n",
        "\n",
        "    if not pd.isnull(identities_df[category][index]):\n",
        "      group = identities_df[category][index]\n",
        "\n",
        "      adding_entry = row[1].copy()\n",
        "      if group in Extended_Identities[category]:\n",
        "        # this algorithm only duplicate terms with one group identitfied per category\n",
        "        new_entries.append(adding_entry.copy())\n",
        "        text = row[1][\"text\"].lower()\n",
        "        indentity_terms = [x.lower() for x in Extended_Identities[category][group]]\n",
        "        Identities_less_real_group = Extended_Identities[category].copy()\n",
        "        del Identities_less_real_group[group]\n",
        "\n",
        "        for new_group in list(Identities_less_real_group.keys()):\n",
        "          new_term = random_choice(Identities_less_real_group, new_group)\n",
        "          new_text = text\n",
        "          for search_group in indentity_terms:\n",
        "            new_text = new_text.replace(search_group, new_term)\n",
        "          adding_entry[category] = new_group\n",
        "          adding_entry['text'] = new_text\n",
        "          new_entries.append(adding_entry.copy())\n",
        "\n",
        "new_df = pd.DataFrame(new_entries)\n"
      ],
      "metadata": {
        "id": "IXEoRLOTK5b6"
      },
      "execution_count": null,
      "outputs": []
    },
    {
      "cell_type": "markdown",
      "source": [
        "Compare the lengths of your datasets"
      ],
      "metadata": {
        "id": "ztj5PPjW2dnr"
      }
    },
    {
      "cell_type": "code",
      "source": [
        "old_len = len(identities_df)\n",
        "new_len = len(new_df)\n",
        "print(\"The identifies_df dataset contains: \",old_len,\" datapoints\")\n",
        "print(\"The new_df dataset contains: \",new_len,\" datapoints\")\n",
        "percent_increase = \"{:.2f}%\".format((new_len-old_len)*100/old_len)\n",
        "print(\"The dataset has increased by \", percent_increase)\n",
        "\n"
      ],
      "metadata": {
        "colab": {
          "base_uri": "https://localhost:8080/"
        },
        "id": "DIUiSz8V2iSR",
        "outputId": "78dcc086-ac8d-435b-9b8b-1713a907b587"
      },
      "execution_count": null,
      "outputs": [
        {
          "output_type": "stream",
          "name": "stdout",
          "text": [
            "The identifies_df dataset contains:  888  datapoints\n",
            "The new_df dataset contains:  4295  datapoints\n",
            "The dataset has increased by  383.67%\n"
          ]
        }
      ]
    },
    {
      "cell_type": "code",
      "source": [
        "new_df[\"label_name\"].value_counts(ascending=True).plot.barh()\n",
        "plt.title(\"Frequency of Classes\")\n",
        "plt.show()"
      ],
      "metadata": {
        "colab": {
          "base_uri": "https://localhost:8080/",
          "height": 281
        },
        "id": "oRg8gXjZ3p1E",
        "outputId": "2d2ac2bf-690f-4a13-b6e0-7d21f9532e37"
      },
      "execution_count": null,
      "outputs": [
        {
          "output_type": "display_data",
          "data": {
            "text/plain": [
              "<Figure size 432x288 with 1 Axes>"
            ],
            "image/png": "[encoded data removed]"
          },
          "metadata": {
            "needs_background": "light"
          }
        }
      ]
    },
    {
      "cell_type": "markdown",
      "source": [
        "Download your dataset into csv format, to save, and input into your NLP model"
      ],
      "metadata": {
        "id": "4nwnFzWhzyEg"
      }
    },
    {
      "cell_type": "code",
      "source": [
        "download_dataset(new_df, \"Expanded_Identities_Dataset\")"
      ],
      "metadata": {
        "id": "gK9VmXaVzxnJ"
      },
      "execution_count": null,
      "outputs": []
    }
  ]
}